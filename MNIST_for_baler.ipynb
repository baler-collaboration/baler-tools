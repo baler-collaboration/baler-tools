{
 "cells": [
  {
   "cell_type": "markdown",
   "id": "c1f8a3e7",
   "metadata": {},
   "source": [
    "##### This script prepares the MNIST dataset for use in Baler, by changing the format of a mnist.npz file which can be downloaded from Kaggle here: https://www.kaggle.com/datasets/mustafaali96/mnistnpz.\n",
    "###### Once you download this you can run the rest of the code. \n",
    "###### The new file is saved as 'MNIST_4_baler.npz'\n",
    "\n",
    "Alternatively, if you have Keras installed, you can use their dataset (from keras.datasets import mnist) which is also split into x_test, x_train, y_test, and y_train. See section titled \"Using Keras\" below"
   ]
  },
  {
   "cell_type": "code",
   "execution_count": 21,
   "id": "def1375e",
   "metadata": {},
   "outputs": [],
   "source": [
    "import numpy as np\n",
    "import pandas as pd"
   ]
  },
  {
   "cell_type": "code",
   "execution_count": 6,
   "id": "25ecd4ea",
   "metadata": {},
   "outputs": [
    {
     "name": "stdout",
     "output_type": "stream",
     "text": [
      "         0\n",
      "0   x_test\n",
      "1  x_train\n",
      "2  y_train\n",
      "3   y_test\n",
      "DataFrame shape: (4, 1)\n",
      "DataFrame size: 4\n"
     ]
    }
   ],
   "source": [
    "orig_npz = np.load('mnist.npz')\n",
    "df = pd.DataFrame(orig_npz)\n",
    "\n",
    "\n",
    "column_names = df.columns\n",
    "print(df.head())\n",
    "# To print the shape (number of rows and columns) of the DataFrame:\n",
    "print(\"DataFrame shape:\", df.shape)\n",
    "# To print the total number of elements in the DataFrame:\n",
    "print(\"DataFrame size:\", df.size)"
   ]
  },
  {
   "cell_type": "code",
   "execution_count": 7,
   "id": "9afd0c2b",
   "metadata": {},
   "outputs": [],
   "source": [
    "#loading all of the data from the npz file\n",
    "x_test = orig_npz['x_test']\n",
    "x_train = orig_npz['x_train']\n",
    "y_train = orig_npz['y_train']\n",
    "y_test = orig_npz['y_test']"
   ]
  },
  {
   "cell_type": "code",
   "execution_count": 16,
   "id": "94a4ff18",
   "metadata": {},
   "outputs": [
    {
     "name": "stdout",
     "output_type": "stream",
     "text": [
      "x shape:  (70000, 28, 28)\n",
      "y (labels) shape:  (70000,)\n"
     ]
    }
   ],
   "source": [
    "#we want the baler format for data, so we need to concatenate the train and test values\n",
    "x = np.concatenate((x_train, x_test), axis=0)\n",
    "print('x shape: ', x.shape)\n",
    "\n",
    "y = np.concatenate((y_train, y_test), axis=0)\n",
    "print('y (labels) shape: ', y.shape)"
   ]
  },
  {
   "cell_type": "code",
   "execution_count": 19,
   "id": "378ab57a",
   "metadata": {},
   "outputs": [],
   "source": [
    "#save the new file, you can change the path to save directly to Baler/workspaces/CFD_workspace/data\n",
    "np.savez('MNIST_4_baler.npz', data=x, names=y)"
   ]
  },
  {
   "cell_type": "code",
   "execution_count": 20,
   "id": "7a4607ee",
   "metadata": {},
   "outputs": [
    {
     "data": {
      "image/png": "[encoded data removed]",
      "text/plain": [
       "<Figure size 640x480 with 1 Axes>"
      ]
     },
     "metadata": {},
     "output_type": "display_data"
    }
   ],
   "source": [
    "#check that it looks right, and labels are assigned correctly\n",
    "# Load  data from the NPZ file\n",
    "loaded_data = np.load('MNIST_4_baler.npz')\n",
    "\n",
    "loaded_x = loaded_data['data']\n",
    "loaded_y = loaded_data['names']\n",
    "\n",
    "import matplotlib.pyplot as plt\n",
    "\n",
    "index_to_plot = 8\n",
    "\n",
    "plt.imshow(loaded_x[index_to_plot], cmap='gray')\n",
    "plt.title(f\"Image {index_to_plot}, Label={loaded_y[index_to_plot]}\")\n",
    "#plt.savefig('MNIST_npz_test.png')\n",
    "plt.show()"
   ]
  },
  {
   "cell_type": "markdown",
   "id": "82020313",
   "metadata": {},
   "source": [
    "## Using Keras\n",
    "###### Exact same procedure except dataset is imported using keras.datasets (https://keras.io/api/datasets/mnist/#load_data-function)"
   ]
  },
  {
   "cell_type": "code",
   "execution_count": 15,
   "id": "f86d5d86",
   "metadata": {},
   "outputs": [
    {
     "name": "stdout",
     "output_type": "stream",
     "text": [
      "(60000, 28, 28)\n",
      "(10000, 28, 28)\n"
     ]
    }
   ],
   "source": [
    "import numpy as np\n",
    "import keras\n",
    "from keras.datasets import mnist\n",
    "\n",
    "(x_train, y_train), (x_test, y_test) = mnist.load_data()\n",
    "\n",
    "x_train = x_train.astype('float32') / 255. #div by 255 means we normalize to a value between 0 and 1\n",
    "x_test = x_test.astype('float32') / 255.\n",
    "y_train = y_train.astype('float32')\n",
    "y_test = y_test.astype('float32')\n",
    "\n",
    "print(x_train.shape)\n",
    "print(x_test.shape)"
   ]
  },
  {
   "cell_type": "code",
   "execution_count": null,
   "id": "a92fd6c7",
   "metadata": {},
   "outputs": [],
   "source": [
    "#we want the baler format for data, so we need to concatenate the train and test values\n",
    "x = np.concatenate((x_train, x_test), axis=0)\n",
    "print('x shape: ', x.shape)\n",
    "\n",
    "y = np.concatenate((y_train, y_test), axis=0)\n",
    "print('y (labels) shape: ', y.shape)"
   ]
  },
  {
   "cell_type": "code",
   "execution_count": null,
   "id": "c7edb54d",
   "metadata": {},
   "outputs": [],
   "source": [
    "#save the new file, you can change the path to save directly to Baler/workspaces/CFD_workspace/data\n",
    "np.savez('MNIST_4_baler.npz', data=x, names=y)"
   ]
  },
  {
   "cell_type": "code",
   "execution_count": null,
   "id": "26f682f2",
   "metadata": {},
   "outputs": [],
   "source": [
    "#check that it looks right, and labels are assigned correctly\n",
    "# Load  data from the NPZ file\n",
    "loaded_data = np.load('MNIST_4_baler.npz')\n",
    "\n",
    "loaded_x = loaded_data['data']\n",
    "loaded_y = loaded_data['names']\n",
    "\n",
    "import matplotlib.pyplot as plt\n",
    "\n",
    "index_to_plot = 8\n",
    "\n",
    "plt.imshow(loaded_x[index_to_plot], cmap='gray')\n",
    "plt.title(f\"Image {index_to_plot}, Label={loaded_y[index_to_plot]}\")\n",
    "#plt.savefig('MNIST_npz_test.png')\n",
    "plt.show()"
   ]
  }
 ],
 "metadata": {
  "kernelspec": {
   "display_name": "Python 3 (ipykernel)",
   "language": "python",
   "name": "python3"
  },
  "language_info": {
   "codemirror_mode": {
    "name": "ipython",
    "version": 3
   },
   "file_extension": ".py",
   "mimetype": "text/x-python",
   "name": "python",
   "nbconvert_exporter": "python",
   "pygments_lexer": "ipython3",
   "version": "3.11.4"
  }
 },
 "nbformat": 4,
 "nbformat_minor": 5
}
